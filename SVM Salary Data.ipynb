{
 "cells": [
  {
   "cell_type": "code",
   "execution_count": 65,
   "id": "c5e81a06",
   "metadata": {
    "ExecuteTime": {
     "end_time": "2022-06-04T15:21:37.615138Z",
     "start_time": "2022-06-04T15:21:37.591137Z"
    }
   },
   "outputs": [],
   "source": [
    "#Import Libraries\n",
    "import pandas as pd\n",
    "import numpy as np\n",
    "import matplotlib.pyplot as plt\n",
    "import seaborn as sns\n",
    "from sklearn.preprocessing import StandardScaler\n",
    "from sklearn import svm\n",
    "from sklearn.svm import SVC\n",
    "from sklearn.model_selection import GridSearchCV\n",
    "from sklearn.metrics import classification_report\n",
    "\n",
    "\n",
    "from sklearn.metrics import accuracy_score, confusion_matrix\n",
    "from sklearn.model_selection import train_test_split, cross_val_score\n"
   ]
  },
  {
   "cell_type": "code",
   "execution_count": 66,
   "id": "8b9b5bd9",
   "metadata": {
    "ExecuteTime": {
     "end_time": "2022-06-04T15:21:39.554723Z",
     "start_time": "2022-06-04T15:21:39.052946Z"
    }
   },
   "outputs": [],
   "source": [
    "#Import Dataset\n",
    "sal_train=pd.read_csv('SalaryData_Train(1).csv')\n",
    "sal_test=pd.read_csv('SalaryData_Test(1).csv')"
   ]
  },
  {
   "cell_type": "code",
   "execution_count": 67,
   "id": "cc34be28",
   "metadata": {
    "ExecuteTime": {
     "end_time": "2022-06-04T15:21:40.171169Z",
     "start_time": "2022-06-04T15:21:40.155170Z"
    }
   },
   "outputs": [
    {
     "data": {
      "text/plain": [
       "Index(['age', 'workclass', 'education', 'educationno', 'maritalstatus',\n",
       "       'occupation', 'relationship', 'race', 'sex', 'capitalgain',\n",
       "       'capitalloss', 'hoursperweek', 'native', 'Salary'],\n",
       "      dtype='object')"
      ]
     },
     "execution_count": 67,
     "metadata": {},
     "output_type": "execute_result"
    }
   ],
   "source": [
    "sal_train.columns"
   ]
  },
  {
   "cell_type": "code",
   "execution_count": 68,
   "id": "99a586e6",
   "metadata": {
    "ExecuteTime": {
     "end_time": "2022-06-04T15:21:40.731170Z",
     "start_time": "2022-06-04T15:21:40.715169Z"
    }
   },
   "outputs": [
    {
     "data": {
      "text/plain": [
       "Index(['age', 'workclass', 'education', 'educationno', 'maritalstatus',\n",
       "       'occupation', 'relationship', 'race', 'sex', 'capitalgain',\n",
       "       'capitalloss', 'hoursperweek', 'native', 'Salary'],\n",
       "      dtype='object')"
      ]
     },
     "execution_count": 68,
     "metadata": {},
     "output_type": "execute_result"
    }
   ],
   "source": [
    "sal_test.columns"
   ]
  },
  {
   "cell_type": "code",
   "execution_count": 69,
   "id": "93d28e9a",
   "metadata": {
    "ExecuteTime": {
     "end_time": "2022-06-04T15:21:41.783852Z",
     "start_time": "2022-06-04T15:21:41.767884Z"
    }
   },
   "outputs": [],
   "source": [
    "string_col=['workclass','education','maritalstatus','occupation','relationship','race','sex','native']"
   ]
  },
  {
   "cell_type": "code",
   "execution_count": 70,
   "id": "04900a6d",
   "metadata": {
    "ExecuteTime": {
     "end_time": "2022-06-04T15:21:42.714492Z",
     "start_time": "2022-06-04T15:21:42.585276Z"
    }
   },
   "outputs": [],
   "source": [
    "#Preprocessing data\n",
    "from sklearn import preprocessing\n",
    "label_encoder=preprocessing.LabelEncoder()\n",
    "for i in string_col:\n",
    "    sal_train[i]=label_encoder.fit_transform(sal_train[i])\n",
    "    sal_test[i]=label_encoder.fit_transform(sal_test[i])"
   ]
  },
  {
   "cell_type": "code",
   "execution_count": 71,
   "id": "c206d672",
   "metadata": {
    "ExecuteTime": {
     "end_time": "2022-06-04T15:21:43.631185Z",
     "start_time": "2022-06-04T15:21:43.607183Z"
    }
   },
   "outputs": [
    {
     "data": {
      "text/plain": [
       "['age',\n",
       " 'workclass',\n",
       " 'education',\n",
       " 'educationno',\n",
       " 'maritalstatus',\n",
       " 'occupation',\n",
       " 'relationship',\n",
       " 'race',\n",
       " 'sex',\n",
       " 'capitalgain',\n",
       " 'capitalloss',\n",
       " 'hoursperweek',\n",
       " 'native',\n",
       " 'Salary']"
      ]
     },
     "execution_count": 71,
     "metadata": {},
     "output_type": "execute_result"
    }
   ],
   "source": [
    "columns=list(sal_train.columns)\n",
    "columns"
   ]
  },
  {
   "cell_type": "code",
   "execution_count": 72,
   "id": "6dd12ca1",
   "metadata": {
    "ExecuteTime": {
     "end_time": "2022-06-04T15:21:44.560952Z",
     "start_time": "2022-06-04T15:21:44.544907Z"
    }
   },
   "outputs": [],
   "source": [
    "train_x=sal_train[columns[0:13]]\n",
    "train_y=sal_train[columns[13]]"
   ]
  },
  {
   "cell_type": "code",
   "execution_count": 73,
   "id": "70895c72",
   "metadata": {
    "ExecuteTime": {
     "end_time": "2022-06-04T15:21:45.550961Z",
     "start_time": "2022-06-04T15:21:45.526956Z"
    }
   },
   "outputs": [],
   "source": [
    "test_x=sal_test[columns[0:13]]\n",
    "test_y=sal_test[columns[13]]"
   ]
  },
  {
   "cell_type": "code",
   "execution_count": 74,
   "id": "0fb43d29",
   "metadata": {
    "ExecuteTime": {
     "end_time": "2022-06-04T15:21:46.242376Z",
     "start_time": "2022-06-04T15:21:46.218373Z"
    }
   },
   "outputs": [],
   "source": [
    "train_x=sal_train.iloc[0:500,0:13]\n",
    "train_y=sal_train.iloc[0:500,13]"
   ]
  },
  {
   "cell_type": "code",
   "execution_count": 75,
   "id": "41e9bf5d",
   "metadata": {
    "ExecuteTime": {
     "end_time": "2022-06-04T15:21:46.954165Z",
     "start_time": "2022-06-04T15:21:46.930163Z"
    }
   },
   "outputs": [],
   "source": [
    "test_x=sal_test.iloc[0:300,0:13]\n",
    "test_y=sal_test.iloc[0:300,13]"
   ]
  },
  {
   "cell_type": "code",
   "execution_count": 76,
   "id": "4c0b4253",
   "metadata": {
    "ExecuteTime": {
     "end_time": "2022-06-04T15:21:47.989143Z",
     "start_time": "2022-06-04T15:21:47.973142Z"
    }
   },
   "outputs": [],
   "source": [
    "#SVM classification using kernels:linear, poly, rbf \n",
    "#KERNEL=LINEAR\n",
    "from sklearn.svm import SVC\n"
   ]
  },
  {
   "cell_type": "code",
   "execution_count": 77,
   "id": "95e43b61",
   "metadata": {
    "ExecuteTime": {
     "end_time": "2022-06-04T15:23:41.634733Z",
     "start_time": "2022-06-04T15:21:49.335191Z"
    }
   },
   "outputs": [
    {
     "name": "stdout",
     "output_type": "stream",
     "text": [
      "Accuracy = 81.66666666666667\n"
     ]
    },
    {
     "data": {
      "text/plain": [
       "array([[218,  10],\n",
       "       [ 45,  27]], dtype=int64)"
      ]
     },
     "execution_count": 77,
     "metadata": {},
     "output_type": "execute_result"
    }
   ],
   "source": [
    "clf = SVC(kernel= \"linear\") \n",
    "clf.fit(train_x , train_y)\n",
    "y_pred = clf.predict(test_x)\n",
    "acc = accuracy_score(test_y, y_pred) * 100\n",
    "print(\"Accuracy =\", acc)\n",
    "confusion_matrix(test_y, y_pred)    "
   ]
  },
  {
   "cell_type": "code",
   "execution_count": 78,
   "id": "a4e2347c",
   "metadata": {
    "ExecuteTime": {
     "end_time": "2022-06-04T15:24:50.554009Z",
     "start_time": "2022-06-04T15:24:50.514009Z"
    }
   },
   "outputs": [
    {
     "name": "stdout",
     "output_type": "stream",
     "text": [
      "Accuracy = 80.33333333333333\n"
     ]
    },
    {
     "data": {
      "text/plain": [
       "array([[227,   1],\n",
       "       [ 58,  14]], dtype=int64)"
      ]
     },
     "execution_count": 78,
     "metadata": {},
     "output_type": "execute_result"
    }
   ],
   "source": [
    "#KERNEL=POLY\n",
    "clf = SVC(kernel= \"poly\") \n",
    "clf.fit(train_x , train_y)\n",
    "y_pred = clf.predict(test_x)\n",
    "acc = accuracy_score(test_y, y_pred) * 100\n",
    "print(\"Accuracy =\", acc)\n",
    "confusion_matrix(test_y, y_pred)  "
   ]
  },
  {
   "cell_type": "code",
   "execution_count": 79,
   "id": "9bff2f6c",
   "metadata": {
    "ExecuteTime": {
     "end_time": "2022-06-04T15:26:16.919447Z",
     "start_time": "2022-06-04T15:26:08.005748Z"
    }
   },
   "outputs": [
    {
     "data": {
      "text/plain": [
       "GridSearchCV(cv=10, estimator=SVC(),\n",
       "             param_grid=[{'C': [15, 14, 13, 12, 11, 10, 0.1, 0.001],\n",
       "                          'gamma': [50, 5, 10, 0.5], 'kernel': ['rbf']}])"
      ]
     },
     "execution_count": 79,
     "metadata": {},
     "output_type": "execute_result"
    }
   ],
   "source": [
    "#KERNEL=rbf\n",
    "clf = SVC()\n",
    "param_grid = [{'kernel':['rbf'],'gamma':[50,5,10,0.5],'C':[15,14,13,12,11,10,0.1,0.001] }]\n",
    "gsv = GridSearchCV(clf,param_grid,cv=10)\n",
    "gsv.fit(train_x,train_y)"
   ]
  },
  {
   "cell_type": "code",
   "execution_count": 80,
   "id": "abedb0d1",
   "metadata": {
    "ExecuteTime": {
     "end_time": "2022-06-04T15:26:41.937829Z",
     "start_time": "2022-06-04T15:26:41.922104Z"
    }
   },
   "outputs": [
    {
     "data": {
      "text/plain": [
       "({'C': 15, 'gamma': 0.5, 'kernel': 'rbf'}, 0.772)"
      ]
     },
     "execution_count": 80,
     "metadata": {},
     "output_type": "execute_result"
    }
   ],
   "source": [
    "gsv.best_params_ , gsv.best_score_ "
   ]
  },
  {
   "cell_type": "code",
   "execution_count": 81,
   "id": "cecc324c",
   "metadata": {
    "ExecuteTime": {
     "end_time": "2022-06-04T15:27:35.686994Z",
     "start_time": "2022-06-04T15:27:35.583107Z"
    }
   },
   "outputs": [
    {
     "name": "stdout",
     "output_type": "stream",
     "text": [
      "Accuracy = 75.0\n"
     ]
    },
    {
     "data": {
      "text/plain": [
       "array([[225,   3],\n",
       "       [ 72,   0]], dtype=int64)"
      ]
     },
     "execution_count": 81,
     "metadata": {},
     "output_type": "execute_result"
    }
   ],
   "source": [
    "clf = SVC(C= 15, gamma = 0.5) \n",
    "clf.fit(train_x , train_y)\n",
    "y_pred = clf.predict(test_x)\n",
    "acc = accuracy_score(test_y, y_pred) * 100\n",
    "print(\"Accuracy =\", acc)\n",
    "confusion_matrix(test_y, y_pred)"
   ]
  },
  {
   "cell_type": "code",
   "execution_count": null,
   "id": "c2c18be4",
   "metadata": {},
   "outputs": [],
   "source": []
  }
 ],
 "metadata": {
  "kernelspec": {
   "display_name": "Python 3",
   "language": "python",
   "name": "python3"
  },
  "language_info": {
   "codemirror_mode": {
    "name": "ipython",
    "version": 3
   },
   "file_extension": ".py",
   "mimetype": "text/x-python",
   "name": "python",
   "nbconvert_exporter": "python",
   "pygments_lexer": "ipython3",
   "version": "3.8.8"
  },
  "varInspector": {
   "cols": {
    "lenName": 16,
    "lenType": 16,
    "lenVar": 40
   },
   "kernels_config": {
    "python": {
     "delete_cmd_postfix": "",
     "delete_cmd_prefix": "del ",
     "library": "var_list.py",
     "varRefreshCmd": "print(var_dic_list())"
    },
    "r": {
     "delete_cmd_postfix": ") ",
     "delete_cmd_prefix": "rm(",
     "library": "var_list.r",
     "varRefreshCmd": "cat(var_dic_list()) "
    }
   },
   "types_to_exclude": [
    "module",
    "function",
    "builtin_function_or_method",
    "instance",
    "_Feature"
   ],
   "window_display": false
  }
 },
 "nbformat": 4,
 "nbformat_minor": 5
}
